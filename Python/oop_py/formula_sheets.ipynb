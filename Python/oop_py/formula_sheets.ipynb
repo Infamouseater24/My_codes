{
 "cells": [
  {
   "cell_type": "markdown",
   "metadata": {},
   "source": [
    "# PYTHON"
   ]
  },
  {
   "cell_type": "markdown",
   "metadata": {},
   "source": [
    "self identifier represents the object calling a function. "
   ]
  },
  {
   "cell_type": "markdown",
   "metadata": {},
   "source": [
    "### assert keyword\n",
    "### .__dict__\n",
    "\n",
    "In python if attributes  aren't found at instance level then compiler automatically searches that attribute at class level\n"
   ]
  },
  {
   "cell_type": "markdown",
   "metadata": {},
   "source": [
    "## A good practice while creating instances for a class is to make a list of instances which appends the self instance onto the list after constructor gets invoked."
   ]
  },
  {
   "cell_type": "code",
   "execution_count": null,
   "metadata": {},
   "outputs": [],
   "source": [
    "import csv\n",
    "@classmethod #Generally this method is used to instantiate instances and manipulate different data structures like csv files\n",
    "def csv_instantiation(cls):\n",
    "        with open('test_values.csv','r') as f:\n",
    "            reader = csv.DictReader(f) \n",
    "            items = list(reader)\n",
    "        for item in items:\n",
    "            Item(\n",
    "                name = item.get('name'),\n",
    "                price = float(item.get('price')),\n",
    "                quantity = int(item.get('quantity'))\n",
    "            )\n",
    "\n",
    "@staticmethod #Generally this method is used in place of general fuctions outside the class if the fuction is in any relation with the class\n",
    "def is_integer(num):\n",
    "        if isinstance(num, float):\n",
    "            return num.is_integer()\n",
    "        elif isinstance(num,int):\n",
    "            return True\n",
    "        else:\n",
    "            return False"
   ]
  },
  {
   "cell_type": "markdown",
   "metadata": {},
   "source": [
    "## Getters and setters"
   ]
  },
  {
   "cell_type": "code",
   "execution_count": null,
   "metadata": {},
   "outputs": [],
   "source": [
    "@property\n",
    "def name(self):\n",
    "        return self.__name  \n",
    "    @name.setter\n",
    "def name(self,new_name):\n",
    "        self.__name = new_name"
   ]
  }
 ],
 "metadata": {
  "kernelspec": {
   "display_name": "Python 3",
   "language": "python",
   "name": "python3"
  },
  "language_info": {
   "name": "python",
   "version": "3.12.4"
  }
 },
 "nbformat": 4,
 "nbformat_minor": 2
}
